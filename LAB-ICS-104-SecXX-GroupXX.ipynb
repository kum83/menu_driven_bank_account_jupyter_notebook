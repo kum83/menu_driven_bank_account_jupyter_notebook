{
 "cells": [
  {
   "cell_type": "markdown",
   "metadata": {
    "deletable": false,
    "editable": false
   },
   "source": [
    "---------------------------------------------------------------------------------------------------------------------------\n",
    "---------------------------------------------------------------------------------------------------------------------------\n",
    "                       \n",
    "                               Done By: Ibrahim Nemer (inemer@kfupm.edu.sa)\n",
    "        \n",
    "---------------------------------------------------------------------------------------------------------------------------\n",
    "---------------------------------------------------------------------------------------------------------------------------"
   ]
  },
  {
   "cell_type": "code",
   "execution_count": 4,
   "metadata": {},
   "outputs": [],
   "source": [
    "sectionNumber = \"\"\n",
    "groupNumber = \"\"\n",
    "studentName1 = \"\"\n",
    "studentNameID1 = \"\"\n",
    "stdContribution1 = \"\"\n",
    "studentName2 = \"\"\n",
    "studentNameID2 = \"\"\n",
    "stdContribution2 = \"\""
   ]
  },
  {
   "cell_type": "markdown",
   "metadata": {},
   "source": [
    "# Title\n",
    "Enter the title of your project here.\n",
    "\n",
    "## Purpose\n",
    "Describe the objective of your project here.\n",
    "\n",
    "## Methodology\n",
    "Describe your methodology in details here including: pseudo code, assumptions and processing steps.\n",
    "\n",
    "## Improvements\n",
    "Show how you divided your project into stages and the required time for each stage, as follows:\n",
    "- Stage ONE: Function 1, Function 2  and I achieved it within one day/hour.\n",
    "- Stage TWO: ...................\n",
    "- Stage THREE: ...................\n",
    "- ...........\n",
    "\n",
    "## Results\n",
    "Describe and comment the most important results for each stage as images (insert your image and describe it briefly).\n",
    "\n",
    "## Remaining stages\n",
    "State the remaining stages (if you have); state your thoughts for these stages and why you didn't achieve them."
   ]
  },
  {
   "cell_type": "markdown",
   "metadata": {},
   "source": [
    "# Setup\n",
    "\n",
    "## Local library import\n",
    "We import all the required Python libraries in the following cell only."
   ]
  },
  {
   "cell_type": "code",
   "execution_count": 5,
   "metadata": {},
   "outputs": [],
   "source": [
    "# libraries and modules based on the permitted list on the description of the project\n",
    "import sys\n"
   ]
  },
  {
   "cell_type": "markdown",
   "metadata": {},
   "source": [
    "## Other library import\n",
    "We import also another libraries which are not from the permitted list. Here, you are required to comment why you add them and if you got approval from your lab instructor or NOT."
   ]
  },
  {
   "cell_type": "code",
   "execution_count": 1,
   "metadata": {},
   "outputs": [],
   "source": [
    "# Include other libraries\n"
   ]
  },
  {
   "cell_type": "markdown",
   "metadata": {},
   "source": [
    "# Functions\n",
    "Put your functions including the main function after this line in code-cells, add cells as the number of functions."
   ]
  },
  {
   "cell_type": "code",
   "execution_count": null,
   "metadata": {},
   "outputs": [],
   "source": [
    "#Function-1\n"
   ]
  },
  {
   "cell_type": "code",
   "execution_count": null,
   "metadata": {},
   "outputs": [],
   "source": [
    "#Function-2\n"
   ]
  },
  {
   "cell_type": "code",
   "execution_count": null,
   "metadata": {},
   "outputs": [],
   "source": [
    "#Function-n"
   ]
  },
  {
   "cell_type": "code",
   "execution_count": null,
   "metadata": {},
   "outputs": [],
   "source": []
  },
  {
   "cell_type": "code",
   "execution_count": null,
   "metadata": {},
   "outputs": [],
   "source": []
  },
  {
   "cell_type": "code",
   "execution_count": null,
   "metadata": {},
   "outputs": [],
   "source": []
  },
  {
   "cell_type": "code",
   "execution_count": null,
   "metadata": {},
   "outputs": [],
   "source": []
  },
  {
   "cell_type": "code",
   "execution_count": null,
   "metadata": {},
   "outputs": [],
   "source": []
  },
  {
   "cell_type": "code",
   "execution_count": null,
   "metadata": {},
   "outputs": [],
   "source": []
  },
  {
   "cell_type": "code",
   "execution_count": 2,
   "metadata": {},
   "outputs": [
    {
     "name": "stdout",
     "output_type": "stream",
     "text": [
      "Enter \"L\" to log in or \"S\" to sign up.\n"
     ]
    }
   ],
   "source": [
    "login = input('Enter \"L\" to log in or \"S\" to sign up.')"
   ]
  },
  {
   "cell_type": "markdown",
   "metadata": {},
   "source": [
    "# Test Cases\n",
    "Put here two test cases, you can insert them as images."
   ]
  },
  {
   "cell_type": "markdown",
   "metadata": {},
   "source": [
    "# References\n",
    "Report here the relevant references (journals, books, websites):\n",
    "1. author1, article1, journal1, year1, url1\n",
    "2. author2, article2, journal2, year2, url2"
   ]
  },
  {
   "cell_type": "code",
   "execution_count": null,
   "metadata": {},
   "outputs": [],
   "source": []
  }
 ],
 "metadata": {
  "kernelspec": {
   "display_name": "Python 3",
   "language": "python",
   "name": "python3"
  },
  "language_info": {
   "codemirror_mode": {
    "name": "ipython",
    "version": 3
   },
   "file_extension": ".py",
   "mimetype": "text/x-python",
   "name": "python",
   "nbconvert_exporter": "python",
   "pygments_lexer": "ipython3",
   "version": "3.7.9"
  },
  "toc": {
   "base_numbering": 1,
   "nav_menu": {},
   "number_sections": true,
   "sideBar": true,
   "skip_h1_title": false,
   "title_cell": "Table of Contents",
   "title_sidebar": "Contents",
   "toc_cell": false,
   "toc_position": {},
   "toc_section_display": true,
   "toc_window_display": false
  }
 },
 "nbformat": 4,
 "nbformat_minor": 4
}
